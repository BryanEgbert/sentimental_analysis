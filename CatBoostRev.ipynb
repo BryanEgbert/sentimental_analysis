{
 "cells": [
  {
   "cell_type": "code",
   "execution_count": 1,
   "metadata": {},
   "outputs": [],
   "source": [
    "import pandas as pd\n",
    "from matplotlib import pyplot as plt\n",
    "from sklearn.model_selection import train_test_split\n",
    "from sklearn.model_selection import cross_val_score, cross_val_predict, cross_validate"
   ]
  },
  {
   "cell_type": "code",
   "execution_count": 2,
   "metadata": {},
   "outputs": [
    {
     "data": {
      "text/plain": [
       "32.289699999999755"
      ]
     },
     "execution_count": 2,
     "metadata": {},
     "output_type": "execute_result"
    }
   ],
   "source": [
    "import timeit\n",
    "\n",
    "def create_df():\n",
    "    header = ['id', 'tweet', 'target']\n",
    "\n",
    "    df = pd.read_csv('sentiment_tweets3.csv', names=header, header=0, encoding='latin-1')\n",
    "\n",
    "    df = df.drop('id', axis=1)\n",
    "\n",
    "    return df\n",
    "\n",
    "timeit.Timer(create_df).timeit(number=1) * 1000"
   ]
  },
  {
   "cell_type": "code",
   "execution_count": 3,
   "metadata": {},
   "outputs": [
    {
     "data": {
      "text/html": [
       "<div>\n",
       "<style scoped>\n",
       "    .dataframe tbody tr th:only-of-type {\n",
       "        vertical-align: middle;\n",
       "    }\n",
       "\n",
       "    .dataframe tbody tr th {\n",
       "        vertical-align: top;\n",
       "    }\n",
       "\n",
       "    .dataframe thead th {\n",
       "        text-align: right;\n",
       "    }\n",
       "</style>\n",
       "<table border=\"1\" class=\"dataframe\">\n",
       "  <thead>\n",
       "    <tr style=\"text-align: right;\">\n",
       "      <th></th>\n",
       "      <th>tweet</th>\n",
       "      <th>target</th>\n",
       "    </tr>\n",
       "  </thead>\n",
       "  <tbody>\n",
       "    <tr>\n",
       "      <th>0</th>\n",
       "      <td>just had a real good moment. i missssssssss hi...</td>\n",
       "      <td>0</td>\n",
       "    </tr>\n",
       "    <tr>\n",
       "      <th>1</th>\n",
       "      <td>is reading manga  http://plurk.com/p/mzp1e</td>\n",
       "      <td>0</td>\n",
       "    </tr>\n",
       "    <tr>\n",
       "      <th>2</th>\n",
       "      <td>@comeagainjen http://twitpic.com/2y2lx - http:...</td>\n",
       "      <td>0</td>\n",
       "    </tr>\n",
       "    <tr>\n",
       "      <th>3</th>\n",
       "      <td>@lapcat Need to send 'em to my accountant tomo...</td>\n",
       "      <td>0</td>\n",
       "    </tr>\n",
       "    <tr>\n",
       "      <th>4</th>\n",
       "      <td>ADD ME ON MYSPACE!!!  myspace.com/LookThunder</td>\n",
       "      <td>0</td>\n",
       "    </tr>\n",
       "    <tr>\n",
       "      <th>...</th>\n",
       "      <td>...</td>\n",
       "      <td>...</td>\n",
       "    </tr>\n",
       "    <tr>\n",
       "      <th>242383</th>\n",
       "      <td>If you don't like rock then your not going to ...</td>\n",
       "      <td>0</td>\n",
       "    </tr>\n",
       "    <tr>\n",
       "      <th>242384</th>\n",
       "      <td>You how you can tell i have so many friends an...</td>\n",
       "      <td>0</td>\n",
       "    </tr>\n",
       "    <tr>\n",
       "      <th>242385</th>\n",
       "      <td>pee probably tastes like salty teaðð¦â¼ï...</td>\n",
       "      <td>0</td>\n",
       "    </tr>\n",
       "    <tr>\n",
       "      <th>242386</th>\n",
       "      <td>The usual stuff you find hereI'm not posting t...</td>\n",
       "      <td>1</td>\n",
       "    </tr>\n",
       "    <tr>\n",
       "      <th>242387</th>\n",
       "      <td>I still haven't beaten the first boss in Hollo...</td>\n",
       "      <td>0</td>\n",
       "    </tr>\n",
       "  </tbody>\n",
       "</table>\n",
       "<p>242388 rows × 2 columns</p>\n",
       "</div>"
      ],
      "text/plain": [
       "                                                    tweet  target\n",
       "0       just had a real good moment. i missssssssss hi...       0\n",
       "1              is reading manga  http://plurk.com/p/mzp1e       0\n",
       "2       @comeagainjen http://twitpic.com/2y2lx - http:...       0\n",
       "3       @lapcat Need to send 'em to my accountant tomo...       0\n",
       "4           ADD ME ON MYSPACE!!!  myspace.com/LookThunder       0\n",
       "...                                                   ...     ...\n",
       "242383  If you don't like rock then your not going to ...       0\n",
       "242384  You how you can tell i have so many friends an...       0\n",
       "242385  pee probably tastes like salty teaðð¦â¼ï...       0\n",
       "242386  The usual stuff you find hereI'm not posting t...       1\n",
       "242387  I still haven't beaten the first boss in Hollo...       0\n",
       "\n",
       "[242388 rows x 2 columns]"
      ]
     },
     "execution_count": 3,
     "metadata": {},
     "output_type": "execute_result"
    }
   ],
   "source": [
    "header = ['id', 'tweet', 'target']\n",
    "\n",
    "tweet_df = pd.read_csv('sentiment_tweets3.csv', names=header, header=0, encoding='latin-1')\n",
    "suicide_df = pd.read_csv('Suicide_Detection.csv', names=header, header=0, encoding='latin-1')\n",
    "tweet_df = tweet_df.drop('id', axis=1)\n",
    "suicide_df = suicide_df.drop('id', axis=1)\n",
    "suicide_df['target'] = suicide_df['target'].map({'suicide': 1, 'non-suicide': 0})\n",
    "\n",
    "df = pd.concat([tweet_df, suicide_df], ignore_index=True, sort=False)\n",
    "\n",
    "df"
   ]
  },
  {
   "cell_type": "code",
   "execution_count": 4,
   "metadata": {},
   "outputs": [
    {
     "data": {
      "image/png": "[encoded data removed]",
      "text/plain": [
       "<Figure size 432x288 with 1 Axes>"
      ]
     },
     "metadata": {
      "needs_background": "light"
     },
     "output_type": "display_data"
    }
   ],
   "source": [
    "df['target'].value_counts().sort_index().plot(kind='bar', title='Count of emotions')\n",
    "plt.xlabel(\"emotions\")\n",
    "plt.ylabel(\"count\")\n",
    "\n",
    "plt.show()"
   ]
  },
  {
   "cell_type": "code",
   "execution_count": 5,
   "metadata": {},
   "outputs": [
    {
     "name": "stdout",
     "output_type": "stream",
     "text": [
      "@comeagainjen http://twitpic.com/2y2lx - http://www.youtube.com/watch?v=zogfqvh2me8 \n"
     ]
    }
   ],
   "source": [
    "example = df['tweet'][2].lower()\n",
    "print(example)"
   ]
  },
  {
   "cell_type": "code",
   "execution_count": 6,
   "metadata": {},
   "outputs": [],
   "source": [
    "import nltk\n",
    "from nltk.tokenize import word_tokenize\n",
    "from nltk.stem.porter import PorterStemmer"
   ]
  },
  {
   "cell_type": "code",
   "execution_count": 7,
   "metadata": {},
   "outputs": [
    {
     "data": {
      "text/plain": [
       "['@',\n",
       " 'comeagainjen',\n",
       " 'http',\n",
       " ':',\n",
       " '//twitpic.com/2y2lx',\n",
       " '-',\n",
       " 'http',\n",
       " ':',\n",
       " '//www.youtube.com/watch',\n",
       " '?',\n",
       " 'v=zogfqvh2me8']"
      ]
     },
     "execution_count": 7,
     "metadata": {},
     "output_type": "execute_result"
    }
   ],
   "source": [
    "raw_token = word_tokenize(example)\n",
    "raw_token"
   ]
  },
  {
   "cell_type": "code",
   "execution_count": 8,
   "metadata": {},
   "outputs": [
    {
     "data": {
      "text/html": [
       "<div>\n",
       "<style scoped>\n",
       "    .dataframe tbody tr th:only-of-type {\n",
       "        vertical-align: middle;\n",
       "    }\n",
       "\n",
       "    .dataframe tbody tr th {\n",
       "        vertical-align: top;\n",
       "    }\n",
       "\n",
       "    .dataframe thead th {\n",
       "        text-align: right;\n",
       "    }\n",
       "</style>\n",
       "<table border=\"1\" class=\"dataframe\">\n",
       "  <thead>\n",
       "    <tr style=\"text-align: right;\">\n",
       "      <th></th>\n",
       "      <th>tweet</th>\n",
       "      <th>target</th>\n",
       "    </tr>\n",
       "  </thead>\n",
       "  <tbody>\n",
       "    <tr>\n",
       "      <th>0</th>\n",
       "      <td>real good missssssssss</td>\n",
       "      <td>0</td>\n",
       "    </tr>\n",
       "    <tr>\n",
       "      <th>1</th>\n",
       "      <td>read manga</td>\n",
       "      <td>0</td>\n",
       "    </tr>\n",
       "    <tr>\n",
       "      <th>2</th>\n",
       "      <td></td>\n",
       "      <td>0</td>\n",
       "    </tr>\n",
       "    <tr>\n",
       "      <th>3</th>\n",
       "      <td>need send account i even refer those support</td>\n",
       "      <td>0</td>\n",
       "    </tr>\n",
       "    <tr>\n",
       "      <th>4</th>\n",
       "      <td>add me on</td>\n",
       "      <td>0</td>\n",
       "    </tr>\n",
       "    <tr>\n",
       "      <th>5</th>\n",
       "      <td>good time tonight though</td>\n",
       "      <td>0</td>\n",
       "    </tr>\n",
       "    <tr>\n",
       "      <th>6</th>\n",
       "      <td>someon alreadi fiber home mean least regular</td>\n",
       "      <td>0</td>\n",
       "    </tr>\n",
       "    <tr>\n",
       "      <th>7</th>\n",
       "      <td>possibl nice</td>\n",
       "      <td>0</td>\n",
       "    </tr>\n",
       "    <tr>\n",
       "      <th>8</th>\n",
       "      <td>nite twittervil workout</td>\n",
       "      <td>0</td>\n",
       "    </tr>\n",
       "    <tr>\n",
       "      <th>9</th>\n",
       "      <td>sweet dream</td>\n",
       "      <td>0</td>\n",
       "    </tr>\n",
       "  </tbody>\n",
       "</table>\n",
       "</div>"
      ],
      "text/plain": [
       "                                          tweet  target\n",
       "0                        real good missssssssss       0\n",
       "1                                    read manga       0\n",
       "2                                                     0\n",
       "3  need send account i even refer those support       0\n",
       "4                                     add me on       0\n",
       "5                      good time tonight though       0\n",
       "6  someon alreadi fiber home mean least regular       0\n",
       "7                                  possibl nice       0\n",
       "8                       nite twittervil workout       0\n",
       "9                                   sweet dream       0"
      ]
     },
     "execution_count": 8,
     "metadata": {},
     "output_type": "execute_result"
    }
   ],
   "source": [
    "import string\n",
    "import re\n",
    "stopwords = set(nltk.corpus.stopwords.words('english'))\n",
    "\n",
    "# token = [WordNetLemmatizer().lemmatize(w) for w in stopwords_removed_token]\n",
    "\n",
    "def clean_words(words):\n",
    "    table = str.maketrans('', '', string.punctuation)\n",
    "    splitted_words = words.split()\n",
    "\n",
    "    lower_split = [w for w in splitted_words if \"@\" not in w]\n",
    "    lower_split = [w for w in lower_split if \"#\" not in w]\n",
    "    lower_split = [w for w in lower_split if \"http\" not in w]\n",
    "    \n",
    "    lower_split = [w.strip() for w in lower_split]\n",
    "    lower_split = [w for w in lower_split if not w.isdigit()]\n",
    "    lower_split = [w for w in lower_split if w.isalpha()]\n",
    "\n",
    "    lower_split = [w.translate(table) for w in lower_split]\n",
    "\n",
    "    stopwords_removed_token = [w for w in lower_split if not w in stopwords]\n",
    "    token = [PorterStemmer().stem(w) for w in stopwords_removed_token]\n",
    "\n",
    "    token = \" \".join(str(x) for x in token)\n",
    "    return token\n",
    "\n",
    "df['tweet'] = df['tweet'].apply(lambda x: clean_words(x))\n",
    "\n",
    "df.head(10)"
   ]
  },
  {
   "cell_type": "code",
   "execution_count": 9,
   "metadata": {},
   "outputs": [],
   "source": [
    "x_data = df['tweet']\n",
    "y_data = df['target']\n",
    "\n",
    "x_train, x_test, y_train, y_test = train_test_split(x_data, y_data, test_size=0.3, random_state=100)\n"
   ]
  },
  {
   "cell_type": "code",
   "execution_count": 10,
   "metadata": {},
   "outputs": [],
   "source": [
    "from catboost import CatBoostClassifier\n",
    "from sklearn.model_selection import learning_curve\n",
    "import matplotlib.pyplot as plt"
   ]
  },
  {
   "cell_type": "code",
   "execution_count": 11,
   "metadata": {},
   "outputs": [],
   "source": [
    "from sklearn.feature_extraction.text import CountVectorizer\n",
    "from sklearn.pipeline import Pipeline"
   ]
  },
  {
   "cell_type": "code",
   "execution_count": 12,
   "metadata": {},
   "outputs": [],
   "source": [
    "# Create the CatBoostClassifier\n",
    "count_vect = CountVectorizer()\n",
    "count_cat_clf = Pipeline([\n",
    "    ('count_vect', CountVectorizer()),\n",
    "    ('clf', CatBoostClassifier())\n",
    "])"
   ]
  },
  {
   "cell_type": "code",
   "execution_count": 13,
   "metadata": {},
   "outputs": [
    {
     "name": "stdout",
     "output_type": "stream",
     "text": [
      "0.9028480568810912\n",
      "0.8760134196246311\n",
      "0.9078982260180477\n",
      "0.9313805117506838\n"
     ]
    }
   ],
   "source": [
    "cv_result = cross_validate(count_cat_clf, x_train, y_train, scoring=['f1', 'recall', 'accuracy', 'precision'], cv=6, n_jobs=-1)\n",
    "print(cv_result['test_f1'].mean())\n",
    "print(cv_result['test_recall'].mean())\n",
    "print(cv_result['test_accuracy'].mean())\n",
    "print(cv_result['test_precision'].mean())"
   ]
  },
  {
   "cell_type": "code",
   "execution_count": 14,
   "metadata": {},
   "outputs": [
    {
     "data": {
      "text/plain": [
       "<matplotlib.legend.Legend at 0x1fc7fca6430>"
      ]
     },
     "execution_count": 14,
     "metadata": {},
     "output_type": "execute_result"
    },
    {
     "data": {
      "image/png": "[encoded data removed]",
      "text/plain": [
       "<Figure size 432x288 with 1 Axes>"
      ]
     },
     "metadata": {
      "needs_background": "light"
     },
     "output_type": "display_data"
    }
   ],
   "source": [
    "from sklearn.model_selection import learning_curve\n",
    "import numpy as np\n",
    "\n",
    "train_sizes, train_scores, test_scores, fit_times, score_times = learning_curve(estimator=count_cat_clf, X=np.asarray(df['tweet']), y=np.asarray(df['target']), cv=6, scoring='balanced_accuracy', random_state=100, return_times=True, n_jobs=-1)\n",
    "plt.plot(train_sizes, np.mean(-train_scores,axis=1), label='training error')\n",
    "plt.plot(train_sizes, np.mean(-test_scores,axis=1), label='testing error')\n",
    "plt.title(\"Learning Curve\")\n",
    "plt.xlabel(\"Train data size\")\n",
    "plt.ylabel(\"Balanced accuracy\")\n",
    "plt.legend()"
   ]
  }
 ],
 "metadata": {
  "kernelspec": {
   "display_name": "Python 3",
   "language": "python",
   "name": "python3"
  },
  "language_info": {
   "codemirror_mode": {
    "name": "ipython",
    "version": 3
   },
   "file_extension": ".py",
   "mimetype": "text/x-python",
   "name": "python",
   "nbconvert_exporter": "python",
   "pygments_lexer": "ipython3",
   "version": "3.9.12"
  },
  "orig_nbformat": 4
 },
 "nbformat": 4,
 "nbformat_minor": 2
}
