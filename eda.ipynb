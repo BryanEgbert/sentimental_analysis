{
 "cells": [
  {
   "cell_type": "code",
   "execution_count": 1,
   "metadata": {},
   "outputs": [],
   "source": [
    "using DataFrames\n",
    "using CSV\n",
    "using TextAnalysis\n",
    "using MLJ\n",
    "using Chain\n",
    "using Pipe\n",
    "using StableRNGs\n",
    "using StringEncodings\n",
    "using MLJText\n",
    "using MLJBase\n",
    "using Plots"
   ]
  },
  {
   "attachments": {},
   "cell_type": "markdown",
   "metadata": {},
   "source": [
    "# Create Dataframe From CSV"
   ]
  },
  {
   "cell_type": "code",
   "execution_count": 4,
   "metadata": {},
   "outputs": [
    {
     "data": {
      "text/html": [
       "<div><div style = \"float: left;\"><span>1600000×2 DataFrame</span></div><div style = \"float: right;\"><span style = \"font-style: italic;\">1599975 rows omitted</span></div><div style = \"clear: both;\"></div></div><div class = \"data-frame\" style = \"overflow-x: scroll;\"><table class = \"data-frame\" style = \"margin-bottom: 6px;\"><thead><tr class = \"header\"><th class = \"rowNumber\" style = \"font-weight: bold; text-align: right;\">Row</th><th style = \"text-align: left;\">Target</th><th style = \"text-align: left;\">Tweet</th></tr><tr class = \"subheader headerLastRow\"><th class = \"rowNumber\" style = \"font-weight: bold; text-align: right;\"></th><th title = \"Int64\" style = \"text-align: left;\">Int64</th><th title = \"String\" style = \"text-align: left;\">String</th></tr></thead><tbody><tr><td class = \"rowNumber\" style = \"font-weight: bold; text-align: right;\">1</td><td style = \"text-align: right;\">0</td><td style = \"text-align: left;\">@switchfoot http://twitpic.com/2y1zl - Awww, that&apos;s a bummer.  You shoulda got David Carr of Third Day to do it. ;D</td></tr><tr><td class = \"rowNumber\" style = \"font-weight: bold; text-align: right;\">2</td><td style = \"text-align: right;\">0</td><td style = \"text-align: left;\">is upset that he can&apos;t update his Facebook by texting it... and might cry as a result  School today also. Blah!</td></tr><tr><td class = \"rowNumber\" style = \"font-weight: bold; text-align: right;\">3</td><td style = \"text-align: right;\">0</td><td style = \"text-align: left;\">@Kenichan I dived many times for the ball. Managed to save 50%  The rest go out of bounds</td></tr><tr><td class = \"rowNumber\" style = \"font-weight: bold; text-align: right;\">4</td><td style = \"text-align: right;\">0</td><td style = \"text-align: left;\">my whole body feels itchy and like its on fire </td></tr><tr><td class = \"rowNumber\" style = \"font-weight: bold; text-align: right;\">5</td><td style = \"text-align: right;\">0</td><td style = \"text-align: left;\">@nationwideclass no, it&apos;s not behaving at all. i&apos;m mad. why am i here? because I can&apos;t see you all over there. </td></tr><tr><td class = \"rowNumber\" style = \"font-weight: bold; text-align: right;\">6</td><td style = \"text-align: right;\">0</td><td style = \"text-align: left;\">@Kwesidei not the whole crew </td></tr><tr><td class = \"rowNumber\" style = \"font-weight: bold; text-align: right;\">7</td><td style = \"text-align: right;\">0</td><td style = \"text-align: left;\">Need a hug </td></tr><tr><td class = \"rowNumber\" style = \"font-weight: bold; text-align: right;\">8</td><td style = \"text-align: right;\">0</td><td style = \"text-align: left;\">@LOLTrish hey  long time no see! Yes.. Rains a bit ,only a bit  LOL , I&apos;m fine thanks , how&apos;s you ?</td></tr><tr><td class = \"rowNumber\" style = \"font-weight: bold; text-align: right;\">9</td><td style = \"text-align: right;\">0</td><td style = \"text-align: left;\">@Tatiana_K nope they didn&apos;t have it </td></tr><tr><td class = \"rowNumber\" style = \"font-weight: bold; text-align: right;\">10</td><td style = \"text-align: right;\">0</td><td style = \"text-align: left;\">@twittera que me muera ? </td></tr><tr><td class = \"rowNumber\" style = \"font-weight: bold; text-align: right;\">11</td><td style = \"text-align: right;\">0</td><td style = \"text-align: left;\">spring break in plain city... it&apos;s snowing </td></tr><tr><td class = \"rowNumber\" style = \"font-weight: bold; text-align: right;\">12</td><td style = \"text-align: right;\">0</td><td style = \"text-align: left;\">I just re-pierced my ears </td></tr><tr><td class = \"rowNumber\" style = \"font-weight: bold; text-align: right;\">13</td><td style = \"text-align: right;\">0</td><td style = \"text-align: left;\">@caregiving I couldn&apos;t bear to watch it.  And I thought the UA loss was embarrassing . . . . .</td></tr><tr><td style = \"text-align: right;\">&vellip;</td><td style = \"text-align: right;\">&vellip;</td><td style = \"text-align: right;\">&vellip;</td></tr><tr><td class = \"rowNumber\" style = \"font-weight: bold; text-align: right;\">1599989</td><td style = \"text-align: right;\">4</td><td style = \"text-align: left;\">@Roy_Everitt ha- good job. that&apos;s right - we gotta throw that #bigrun tag EVERYWHERE! I wanna get it trending before I start </td></tr><tr><td class = \"rowNumber\" style = \"font-weight: bold; text-align: right;\">1599990</td><td style = \"text-align: right;\">4</td><td style = \"text-align: left;\">@Ms_Hip_Hop im glad ur doing well </td></tr><tr><td class = \"rowNumber\" style = \"font-weight: bold; text-align: right;\">1599991</td><td style = \"text-align: right;\">4</td><td style = \"text-align: left;\">WOOOOO! Xbox is back </td></tr><tr><td class = \"rowNumber\" style = \"font-weight: bold; text-align: right;\">1599992</td><td style = \"text-align: right;\">4</td><td style = \"text-align: left;\">@rmedina @LaTati Mmmm  That sounds absolutely perfect... but my schedule is full. I won&apos;t have time to lay in bed until Sunday. Ugh!!</td></tr><tr><td class = \"rowNumber\" style = \"font-weight: bold; text-align: right;\">1599993</td><td style = \"text-align: right;\">4</td><td style = \"text-align: left;\">ReCoVeRiNg FrOm ThE lOnG wEeKeNd </td></tr><tr><td class = \"rowNumber\" style = \"font-weight: bold; text-align: right;\">1599994</td><td style = \"text-align: right;\">4</td><td style = \"text-align: left;\">@SCOOBY_GRITBOYS </td></tr><tr><td class = \"rowNumber\" style = \"font-weight: bold; text-align: right;\">1599995</td><td style = \"text-align: right;\">4</td><td style = \"text-align: left;\">@Cliff_Forster Yeah, that does work better than just waiting for it  In the end I just wonder if I have time to keep up a good blog.</td></tr><tr><td class = \"rowNumber\" style = \"font-weight: bold; text-align: right;\">1599996</td><td style = \"text-align: right;\">4</td><td style = \"text-align: left;\">Just woke up. Having no school is the best feeling ever </td></tr><tr><td class = \"rowNumber\" style = \"font-weight: bold; text-align: right;\">1599997</td><td style = \"text-align: right;\">4</td><td style = \"text-align: left;\">TheWDB.com - Very cool to hear old Walt interviews!  â\\u99« http://blip.fm/~8bmta</td></tr><tr><td class = \"rowNumber\" style = \"font-weight: bold; text-align: right;\">1599998</td><td style = \"text-align: right;\">4</td><td style = \"text-align: left;\">Are you ready for your MoJo Makeover? Ask me for details </td></tr><tr><td class = \"rowNumber\" style = \"font-weight: bold; text-align: right;\">1599999</td><td style = \"text-align: right;\">4</td><td style = \"text-align: left;\">Happy 38th Birthday to my boo of alll time!!! Tupac Amaru Shakur </td></tr><tr><td class = \"rowNumber\" style = \"font-weight: bold; text-align: right;\">1600000</td><td style = \"text-align: right;\">4</td><td style = \"text-align: left;\">happy #charitytuesday @theNSPCC @SparksCharity @SpeakingUpH4H </td></tr></tbody></table></div>"
      ],
      "text/latex": [
       "\\begin{tabular}{r|cc}\n",
       "\t& Target & Tweet\\\\\n",
       "\t\\hline\n",
       "\t& Int64 & String\\\\\n",
       "\t\\hline\n",
       "\t1 & 0 & @switchfoot http://twitpic.com/2y1zl - Awww, that's a bummer.  You shoulda got David Carr of Third Day to do it. ;D \\\\\n",
       "\t2 & 0 & is upset that he can't update his Facebook by texting it... and might cry as a result  School today also. Blah! \\\\\n",
       "\t3 & 0 & @Kenichan I dived many times for the ball. Managed to save 50\\%  The rest go out of bounds \\\\\n",
       "\t4 & 0 & my whole body feels itchy and like its on fire  \\\\\n",
       "\t5 & 0 & @nationwideclass no, it's not behaving at all. i'm mad. why am i here? because I can't see you all over there.  \\\\\n",
       "\t6 & 0 & @Kwesidei not the whole crew  \\\\\n",
       "\t7 & 0 & Need a hug  \\\\\n",
       "\t8 & 0 & @LOLTrish hey  long time no see! Yes.. Rains a bit ,only a bit  LOL , I'm fine thanks , how's you ? \\\\\n",
       "\t9 & 0 & @Tatiana\\_K nope they didn't have it  \\\\\n",
       "\t10 & 0 & @twittera que me muera ?  \\\\\n",
       "\t11 & 0 & spring break in plain city... it's snowing  \\\\\n",
       "\t12 & 0 & I just re-pierced my ears  \\\\\n",
       "\t13 & 0 & @caregiving I couldn't bear to watch it.  And I thought the UA loss was embarrassing . . . . . \\\\\n",
       "\t14 & 0 & @octolinz16 It it counts, idk why I did either. you never talk to me anymore  \\\\\n",
       "\t15 & 0 & @smarrison i would've been the first, but i didn't have a gun.    not really though, zac snyder's just a doucheclown. \\\\\n",
       "\t16 & 0 & @iamjazzyfizzle I wish I got to watch it with you!! I miss you and @iamlilnicki  how was the premiere?! \\\\\n",
       "\t17 & 0 & Hollis' death scene will hurt me severely to watch on film  wry is directors cut not out now? \\\\\n",
       "\t18 & 0 & about to file taxes  \\\\\n",
       "\t19 & 0 & @LettyA ahh ive always wanted to see rent  love the soundtrack!! \\\\\n",
       "\t20 & 0 & @FakerPattyPattz Oh dear. Were you drinking out of the forgotten table drinks?  \\\\\n",
       "\t21 & 0 & @alydesigns i was out most of the day so didn't get much done  \\\\\n",
       "\t22 & 0 & one of my friend called me, and asked to meet with her at Mid Valley today...but i've no time *sigh*  \\\\\n",
       "\t23 & 0 & @angry\\_barista I baked you a cake but I ated it  \\\\\n",
       "\t24 & 0 & this week is not going as i had hoped  \\\\\n",
       "\t$\\dots$ & $\\dots$ & $\\dots$ \\\\\n",
       "\\end{tabular}\n"
      ],
      "text/plain": [
       "\u001b[1m1600000×2 DataFrame\u001b[0m\n",
       "\u001b[1m     Row \u001b[0m│\u001b[1m Target \u001b[0m\u001b[1m Tweet                             \u001b[0m\n",
       "         │\u001b[90m Int64  \u001b[0m\u001b[90m String                            \u001b[0m\n",
       "─────────┼───────────────────────────────────────────\n",
       "       1 │      0  @switchfoot http://twitpic.com/2…\n",
       "       2 │      0  is upset that he can't update hi…\n",
       "       3 │      0  @Kenichan I dived many times for…\n",
       "       4 │      0  my whole body feels itchy and li…\n",
       "       5 │      0  @nationwideclass no, it's not be…\n",
       "       6 │      0  @Kwesidei not the whole crew\n",
       "       7 │      0  Need a hug\n",
       "       8 │      0  @LOLTrish hey  long time no see!…\n",
       "    ⋮    │   ⋮                     ⋮\n",
       " 1599994 │      4  @SCOOBY_GRITBOYS\n",
       " 1599995 │      4  @Cliff_Forster Yeah, that does w…\n",
       " 1599996 │      4  Just woke up. Having no school i…\n",
       " 1599997 │      4  TheWDB.com - Very cool to hear o…\n",
       " 1599998 │      4  Are you ready for your MoJo Make…\n",
       " 1599999 │      4  Happy 38th Birthday to my boo of…\n",
       " 1600000 │      4  happy #charitytuesday @theNSPCC …\n",
       "\u001b[36m                                 1599985 rows omitted\u001b[0m"
      ]
     },
     "metadata": {},
     "output_type": "display_data"
    }
   ],
   "source": [
    "df = CSV.File(open(\"training.1600000.processed.noemoticon.csv\", enc\"ISO-8859-1\"); header=0) |> DataFrame\n",
    "rename!(df, [:Target, :Id, :Date, :Flag, :User, :Tweet])\n",
    "\n",
    "df = select!(df, Not([:Id, :Date, :Flag, :User]))\n",
    "\n",
    "df"
   ]
  },
  {
   "attachments": {},
   "cell_type": "markdown",
   "metadata": {},
   "source": [
    "# Cast Type"
   ]
  },
  {
   "cell_type": "code",
   "execution_count": 5,
   "metadata": {},
   "outputs": [
    {
     "data": {
      "text/plain": [
       "1600000-element Vector{StringDocument{String}}:\n",
       " A StringDocument{String}\n",
       " A StringDocument{String}\n",
       " A StringDocument{String}\n",
       " A StringDocument{String}\n",
       " A StringDocument{String}\n",
       " A StringDocument{String}\n",
       " A StringDocument{String}\n",
       " A StringDocument{String}\n",
       " A StringDocument{String}\n",
       " A StringDocument{String}\n",
       " ⋮\n",
       " A StringDocument{String}\n",
       " A StringDocument{String}\n",
       " A StringDocument{String}\n",
       " A StringDocument{String}\n",
       " A StringDocument{String}\n",
       " A StringDocument{String}\n",
       " A StringDocument{String}\n",
       " A StringDocument{String}\n",
       " A StringDocument{String}"
      ]
     },
     "metadata": {},
     "output_type": "display_data"
    }
   ],
   "source": [
    "df.Target = coerce(df.Target, OrderedFactor)\n",
    "levels(df.Target) \n",
    "\n",
    "df.Tweet = TextAnalysis.StringDocument.(df[:, :Tweet])"
   ]
  },
  {
   "attachments": {},
   "cell_type": "markdown",
   "metadata": {},
   "source": [
    "# Extract Tweet and Target As Separate Variables"
   ]
  },
  {
   "cell_type": "code",
   "execution_count": 6,
   "metadata": {},
   "outputs": [
    {
     "data": {
      "text/plain": [
       "(StringDocument{String}[A StringDocument{String}, A StringDocument{String}, A StringDocument{String}, A StringDocument{String}, A StringDocument{String}, A StringDocument{String}, A StringDocument{String}, A StringDocument{String}, A StringDocument{String}, A StringDocument{String}  …  A StringDocument{String}, A StringDocument{String}, A StringDocument{String}, A StringDocument{String}, A StringDocument{String}, A StringDocument{String}, A StringDocument{String}, A StringDocument{String}, A StringDocument{String}, A StringDocument{String}], CategoricalArrays.CategoricalValue{Int64, UInt32}[0, 0, 0, 0, 0, 0, 0, 0, 0, 0  …  4, 4, 4, 4, 4, 4, 4, 4, 4, 4], \u001b[1m0×0 DataFrame\u001b[0m)"
      ]
     },
     "metadata": {},
     "output_type": "display_data"
    }
   ],
   "source": [
    "feat, target = MLJ.unpack(df, ==(:Tweet), ==(:Target))"
   ]
  },
  {
   "cell_type": "code",
   "execution_count": 8,
   "metadata": {},
   "outputs": [],
   "source": [
    "prepare!.(feat, strip_case| strip_pronouns| strip_articles| strip_punctuation| strip_numbers| strip_non_letters| strip_pronouns| strip_stopwords| stem_words)\n",
    "\n",
    "crps = Corpus(feat)\n",
    "\n",
    "update_lexicon!(crps)\n",
    "\n",
    "rng = StableRNG(100)\n",
    "train, test = partition(eachindex(target), 0.7, shuffle=true, rng=rng);"
   ]
  },
  {
   "cell_type": "code",
   "execution_count": 9,
   "metadata": {},
   "outputs": [
    {
     "name": "stderr",
     "output_type": "stream",
     "text": [
      "┌ Info: For silent loading, specify `verbosity=0`. \n",
      "└ @ Main /home/bryan/.julia/packages/MLJModels/OJDDo/src/loading.jl:159\n"
     ]
    },
    {
     "name": "stdout",
     "output_type": "stream",
     "text": [
      "import MLJNaiveBayesInterface ✔"
     ]
    },
    {
     "name": "stdout",
     "output_type": "stream",
     "text": [
      "\n"
     ]
    },
    {
     "data": {
      "text/plain": [
       "ProbabilisticPipeline(\n",
       "  f = var\"#9#11\"(), \n",
       "  tfidf_transformer = TfidfTransformer(\n",
       "        max_doc_freq = 1.0, \n",
       "        min_doc_freq = 0.0, \n",
       "        smooth_idf = true), \n",
       "  f2 = var\"#10#12\"(), \n",
       "  multinomial_nb_classifier = MultinomialNBClassifier(\n",
       "        alpha = 1), \n",
       "  cache = true)"
      ]
     },
     "metadata": {},
     "output_type": "display_data"
    }
   ],
   "source": [
    "MultinomialNBClassifier = @load MultinomialNBClassifier pkg=NaiveBayes\n",
    "multinomial_nb_classifier_pipe = (feat -> tokenize.(TextAnalysis.text.(feat))) |> TfidfTransformer() |> (feat -> round.(feat)) |> MultinomialNBClassifier()"
   ]
  },
  {
   "cell_type": "code",
   "execution_count": 12,
   "metadata": {},
   "outputs": [
    {
     "name": "stderr",
     "output_type": "stream",
     "text": [
      "┌ Info: Training machine(ProbabilisticPipeline(f = #9, …), …).\n",
      "└ @ MLJBase /home/bryan/.julia/packages/MLJBase/WKVEo/src/machines.jl:492\n"
     ]
    },
    {
     "name": "stderr",
     "output_type": "stream",
     "text": [
      "┌ Info: Training machine(:tfidf_transformer, …).\n",
      "└ @ MLJBase /home/bryan/.julia/packages/MLJBase/WKVEo/src/machines.jl:492\n"
     ]
    },
    {
     "name": "stderr",
     "output_type": "stream",
     "text": [
      "┌ Info: Training machine(:multinomial_nb_classifier, …).\n",
      "└ @ MLJBase /home/bryan/.julia/packages/MLJBase/WKVEo/src/machines.jl:492\n",
      "┌ Error: Problem fitting the machine machine(:multinomial_nb_classifier, …). \n",
      "└ @ MLJBase /home/bryan/.julia/packages/MLJBase/WKVEo/src/machines.jl:682\n"
     ]
    },
    {
     "name": "stderr",
     "output_type": "stream",
     "text": [
      "┌ Info: Running type checks... \n",
      "└ @ MLJBase /home/bryan/.julia/packages/MLJBase/WKVEo/src/machines.jl:688\n",
      "┌ Warning: The number and/or types of data arguments do not match what the specified model\n",
      "│ supports. Suppress this type check by specifying `scitype_check_level=0`.\n",
      "│ \n",
      "│ Run `@doc NaiveBayes.MultinomialNBClassifier` to learn more about your model's requirements.\n",
      "│ \n",
      "│ Commonly, but non exclusively, supervised models are constructed using the syntax\n",
      "│ `machine(model, X, y)` or `machine(model, X, y, w)` while most other models are\n",
      "│ constructed with `machine(model, X)`.  Here `X` are features, `y` a target, and `w`\n",
      "│ sample or class weights.\n",
      "│ \n",
      "│ In general, data in `machine(model, data...)` is expected to satisfy\n",
      "│ \n",
      "│     scitype(data) <: MLJ.fit_data_scitype(model)\n",
      "│ \n",
      "│ In the present case:\n",
      "│ \n",
      "│ scitype(data) = Tuple{AbstractMatrix{Continuous}, AbstractVector{OrderedFactor{2}}}\n",
      "│ \n",
      "│ fit_data_scitype(model) = Tuple{Union{Table{<:AbstractVector{<:Count}}, AbstractMatrix{<:Count}}, AbstractVector{<:Finite}}\n",
      "└ @ MLJBase /home/bryan/.julia/packages/MLJBase/WKVEo/src/machines.jl:230\n"
     ]
    },
    {
     "name": "stderr",
     "output_type": "stream",
     "text": [
      "┌ Info: It seems an upstream node in a learning network is providing data of incompatible scitype. See above. \n",
      "└ @ MLJBase /home/bryan/.julia/packages/MLJBase/WKVEo/src/machines.jl:694\n",
      "┌ Error: Problem fitting machine(:multinomial_nb_classifier, …)\n",
      "└ @ MLJBase /home/bryan/.julia/packages/MLJBase/WKVEo/src/machines.jl:755\n",
      "┌ Error: Problem fitting the machine machine(ProbabilisticPipeline(f = #9, …), …). \n",
      "└ @ MLJBase /home/bryan/.julia/packages/MLJBase/WKVEo/src/machines.jl:682\n",
      "┌ Info: Running type checks... \n",
      "└ @ MLJBase /home/bryan/.julia/packages/MLJBase/WKVEo/src/machines.jl:688\n"
     ]
    },
    {
     "name": "stderr",
     "output_type": "stream",
     "text": [
      "┌ Info: Type checks okay. \n",
      "└ @ MLJBase /home/bryan/.julia/packages/MLJBase/WKVEo/src/machines.jl:692\n"
     ]
    },
    {
     "ename": "CompositeException",
     "evalue": "TaskFailedException\n\n    nested task error: OutOfMemoryError()\n    Stacktrace:\n     [1] fit_only!(mach::Machine{Symbol, true}, wait_on_upstream::Bool; kwargs::Base.Pairs{Symbol, Any, Tuple{Symbol, Symbol}, NamedTuple{(:verbosity, :composite), Tuple{Int64, ProbabilisticPipeline{NamedTuple{(:f, :tfidf_transformer, :f2, :multinomial_nb_classifier), Tuple{Any, Unsupervised, Any, Probabilistic}}, MLJModelInterface.predict}}}})\n       @ MLJBase ~/.julia/packages/MLJBase/WKVEo/src/machines.jl:756\n     [2] (::MLJBase.var\"#80#82\"{Base.Pairs{Symbol, Any, Tuple{Symbol, Symbol}, NamedTuple{(:verbosity, :composite), Tuple{Int64, ProbabilisticPipeline{NamedTuple{(:f, :tfidf_transformer, :f2, :multinomial_nb_classifier), Tuple{Any, Unsupervised, Any, Probabilistic}}, MLJModelInterface.predict}}}}, Machine{Symbol, true}})()\n       @ MLJBase ./task.jl:484\n    \n    caused by: OutOfMemoryError()\n    Stacktrace:\n     [1] Array\n       @ ./boot.jl:461 [inlined]\n     [2] Array\n       @ ./boot.jl:469 [inlined]\n     [3] Array\n       @ ./array.jl:626 [inlined]\n     [4] convert\n       @ ./array.jl:617 [inlined]\n     [5] fit(model::MLJNaiveBayesInterface.MultinomialNBClassifier, verbosity::Int64, X::SparseArrays.SparseMatrixCSC{Float64, Int64}, y::CategoricalArrays.CategoricalVector{Int64, UInt32, Int64, CategoricalArrays.CategoricalValue{Int64, UInt32}, Union{}})\n       @ MLJNaiveBayesInterface ~/.julia/packages/MLJNaiveBayesInterface/a9Udq/src/MLJNaiveBayesInterface.jl:93\n     [6] fit_only!(mach::Machine{Symbol, true}; rows::Nothing, verbosity::Int64, force::Bool, composite::ProbabilisticPipeline{NamedTuple{(:f, :tfidf_transformer, :f2, :multinomial_nb_classifier), Tuple{Any, Unsupervised, Any, Probabilistic}}, MLJModelInterface.predict})\n       @ MLJBase ~/.julia/packages/MLJBase/WKVEo/src/machines.jl:680\n     [7] fit_only!(mach::Machine{Symbol, true}, wait_on_upstream::Bool; kwargs::Base.Pairs{Symbol, Any, Tuple{Symbol, Symbol}, NamedTuple{(:verbosity, :composite), Tuple{Int64, ProbabilisticPipeline{NamedTuple{(:f, :tfidf_transformer, :f2, :multinomial_nb_classifier), Tuple{Any, Unsupervised, Any, Probabilistic}}, MLJModelInterface.predict}}}})\n       @ MLJBase ~/.julia/packages/MLJBase/WKVEo/src/machines.jl:752\n     [8] (::MLJBase.var\"#80#82\"{Base.Pairs{Symbol, Any, Tuple{Symbol, Symbol}, NamedTuple{(:verbosity, :composite), Tuple{Int64, ProbabilisticPipeline{NamedTuple{(:f, :tfidf_transformer, :f2, :multinomial_nb_classifier), Tuple{Any, Unsupervised, Any, Probabilistic}}, MLJModelInterface.predict}}}}, Machine{Symbol, true}})()\n       @ MLJBase ./task.jl:484",
     "output_type": "error",
     "traceback": [
      "TaskFailedException\n",
      "\n",
      "    nested task error: OutOfMemoryError()\n",
      "    Stacktrace:\n",
      "     [1] fit_only!(mach::Machine{Symbol, true}, wait_on_upstream::Bool; kwargs::Base.Pairs{Symbol, Any, Tuple{Symbol, Symbol}, NamedTuple{(:verbosity, :composite), Tuple{Int64, ProbabilisticPipeline{NamedTuple{(:f, :tfidf_transformer, :f2, :multinomial_nb_classifier), Tuple{Any, Unsupervised, Any, Probabilistic}}, MLJModelInterface.predict}}}})\n",
      "       @ MLJBase ~/.julia/packages/MLJBase/WKVEo/src/machines.jl:756\n",
      "     [2] (::MLJBase.var\"#80#82\"{Base.Pairs{Symbol, Any, Tuple{Symbol, Symbol}, NamedTuple{(:verbosity, :composite), Tuple{Int64, ProbabilisticPipeline{NamedTuple{(:f, :tfidf_transformer, :f2, :multinomial_nb_classifier), Tuple{Any, Unsupervised, Any, Probabilistic}}, MLJModelInterface.predict}}}}, Machine{Symbol, true}})()\n",
      "       @ MLJBase ./task.jl:484\n",
      "    \n",
      "    caused by: OutOfMemoryError()\n",
      "    Stacktrace:\n",
      "     [1] Array\n",
      "       @ ./boot.jl:461 [inlined]\n",
      "     [2] Array\n",
      "       @ ./boot.jl:469 [inlined]\n",
      "     [3] Array\n",
      "       @ ./array.jl:626 [inlined]\n",
      "     [4] convert\n",
      "       @ ./array.jl:617 [inlined]\n",
      "     [5] fit(model::MLJNaiveBayesInterface.MultinomialNBClassifier, verbosity::Int64, X::SparseArrays.SparseMatrixCSC{Float64, Int64}, y::CategoricalArrays.CategoricalVector{Int64, UInt32, Int64, CategoricalArrays.CategoricalValue{Int64, UInt32}, Union{}})\n",
      "       @ MLJNaiveBayesInterface ~/.julia/packages/MLJNaiveBayesInterface/a9Udq/src/MLJNaiveBayesInterface.jl:93\n",
      "     [6] fit_only!(mach::Machine{Symbol, true}; rows::Nothing, verbosity::Int64, force::Bool, composite::ProbabilisticPipeline{NamedTuple{(:f, :tfidf_transformer, :f2, :multinomial_nb_classifier), Tuple{Any, Unsupervised, Any, Probabilistic}}, MLJModelInterface.predict})\n",
      "       @ MLJBase ~/.julia/packages/MLJBase/WKVEo/src/machines.jl:680\n",
      "     [7] fit_only!(mach::Machine{Symbol, true}, wait_on_upstream::Bool; kwargs::Base.Pairs{Symbol, Any, Tuple{Symbol, Symbol}, NamedTuple{(:verbosity, :composite), Tuple{Int64, ProbabilisticPipeline{NamedTuple{(:f, :tfidf_transformer, :f2, :multinomial_nb_classifier), Tuple{Any, Unsupervised, Any, Probabilistic}}, MLJModelInterface.predict}}}})\n",
      "       @ MLJBase ~/.julia/packages/MLJBase/WKVEo/src/machines.jl:752\n",
      "     [8] (::MLJBase.var\"#80#82\"{Base.Pairs{Symbol, Any, Tuple{Symbol, Symbol}, NamedTuple{(:verbosity, :composite), Tuple{Int64, ProbabilisticPipeline{NamedTuple{(:f, :tfidf_transformer, :f2, :multinomial_nb_classifier), Tuple{Any, Unsupervised, Any, Probabilistic}}, MLJModelInterface.predict}}}}, Machine{Symbol, true}})()\n",
      "       @ MLJBase ./task.jl:484\n",
      "\n",
      "Stacktrace:\n",
      " [1] sync_end(c::Channel{Any})\n",
      "   @ Base ./task.jl:436\n",
      " [2] macro expansion\n",
      "   @ ./task.jl:455 [inlined]\n",
      " [3] fit!(y::Node{Nothing}, ::CPU1{Nothing}; kwargs::Base.Pairs{Symbol, Any, Tuple{Symbol, Symbol}, NamedTuple{(:verbosity, :composite), Tuple{Int64, ProbabilisticPipeline{NamedTuple{(:f, :tfidf_transformer, :f2, :multinomial_nb_classifier), Tuple{Any, Unsupervised, Any, Probabilistic}}, MLJModelInterface.predict}}}})\n",
      "   @ MLJBase ~/.julia/packages/MLJBase/WKVEo/src/composition/learning_networks/nodes.jl:227\n",
      " [4] #fit!#76\n",
      "   @ ~/.julia/packages/MLJBase/WKVEo/src/composition/learning_networks/nodes.jl:209 [inlined]\n",
      " [5] fit(::ProbabilisticPipeline{NamedTuple{(:f, :tfidf_transformer, :f2, :multinomial_nb_classifier), Tuple{Any, Unsupervised, Any, Probabilistic}}, MLJModelInterface.predict}, ::Int64, ::Vector{StringDocument{String}}, ::CategoricalArrays.CategoricalVector{Int64, UInt32, Int64, CategoricalArrays.CategoricalValue{Int64, UInt32}, Union{}})\n",
      "   @ MLJBase ~/.julia/packages/MLJBase/WKVEo/src/composition/models/network_composite.jl:31\n",
      " [6] fit_only!(mach::Machine{ProbabilisticPipeline{NamedTuple{(:f, :tfidf_transformer, :f2, :multinomial_nb_classifier), Tuple{Any, Unsupervised, Any, Probabilistic}}, MLJModelInterface.predict}, false}; rows::Vector{Int64}, verbosity::Int64, force::Bool, composite::Nothing)\n",
      "   @ MLJBase ~/.julia/packages/MLJBase/WKVEo/src/machines.jl:680\n",
      " [7] #fit!#63\n",
      "   @ ~/.julia/packages/MLJBase/WKVEo/src/machines.jl:778 [inlined]\n",
      " [8] top-level scope\n",
      "   @ ~/repos/sentimental_analysis/eda.ipynb:2"
     ]
    }
   ],
   "source": [
    "mach = machine(multinomial_nb_classifier_pipe, feat, target)\n",
    "MLJ.fit!(mach, rows=train)"
   ]
  },
  {
   "cell_type": "code",
   "execution_count": null,
   "metadata": {},
   "outputs": [],
   "source": [
    "evaluation = evaluate!(mach, resampling=CV(), measure=[Accuracy(), Precision(), TruePositiveRate(), FScore(), LogLoss()], rows=test)\n",
    "println(evaluation)"
   ]
  },
  {
   "cell_type": "code",
   "execution_count": null,
   "metadata": {},
   "outputs": [],
   "source": [
    "yhat = MLJ.predict(mach, rows=test)\n",
    "\n",
    "println(\"Accuracy on the test set: $(MLJ.accuracy(mode.(yhat), target[test]))\")\n",
    "println(\"fscore on the test set: $(MLJ.f1score(mode.(yhat), target[test]))\")\n",
    "\n",
    "confusion_mat = ConfusionMatrix()(mode.(yhat), coerce(target[test], OrderedFactor))\n",
    "cm_plt = Plots.heatmap(confusion_mat.mat, xlabel=\"ground truth\", ylabel=\"predicted values\", title=\"Confusion Matrix of\\nMNB Classifier using Rounded TF-IDF Vectorizer\", size= (800, 800))"
   ]
  }
 ],
 "metadata": {
  "kernelspec": {
   "display_name": "Julia 1.8.5",
   "language": "julia",
   "name": "julia-1.8"
  },
  "language_info": {
   "file_extension": ".jl",
   "mimetype": "application/julia",
   "name": "julia",
   "version": "1.8.5"
  },
  "orig_nbformat": 4
 },
 "nbformat": 4,
 "nbformat_minor": 2
}
